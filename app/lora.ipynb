{
 "cells": [
  {
   "cell_type": "code",
   "execution_count": 4,
   "metadata": {},
   "outputs": [
    {
     "name": "stderr",
     "output_type": "stream",
     "text": [
      "Loading pipeline components...: 100%|██████████| 7/7 [00:29<00:00,  4.29s/it]\n"
     ]
    }
   ],
   "source": [
    "from diffusers import StableDiffusionXLPipeline, DPMSolverMultistepScheduler\n",
    "import torch\n",
    "import gc\n",
    "\n",
    "model_path = \"stabilityai/stable-diffusion-xl-base-1.0\"\n",
    "lora_id = \"artificialguybr/ColoringBookRedmond-V2\"\n",
    "pipe = StableDiffusionXLPipeline.from_pretrained(model_path, torch_dtype=torch.float16).to('cuda')\n",
    "pipe.load_lora_weights(lora_id, weight_name=\"ColoringBookRedmond-ColoringBook-ColoringBookAF.safetensors\")"
   ]
  },
  {
   "cell_type": "code",
   "execution_count": 5,
   "metadata": {},
   "outputs": [],
   "source": [
    "def clear_cuda_memory():\n",
    "    torch.cuda.empty_cache()\n",
    "    torch.cuda.empty_cache()\n",
    "    gc.collect()"
   ]
  },
  {
   "cell_type": "code",
   "execution_count": null,
   "metadata": {},
   "outputs": [],
   "source": [
    "clear_cuda_memory()\n",
    "with torch.inference_mode():\n",
    "    prompt = \"ColoringBookAF a man walking at night\"\n",
    "    lora_scale= 0.9\n",
    "    pipe.scheduler = DPMSolverMultistepScheduler.from_config(pipe.scheduler.config)\n",
    "    image = pipe(prompt, num_inference_steps=15, guidance_scale=7.5, cross_attention_kwargs={\"scale\": lora_scale}).images[0]\n",
    "    image.save(\"image.png\")"
   ]
  }
 ],
 "metadata": {
  "kernelspec": {
   "display_name": "stable_diff",
   "language": "python",
   "name": "stable_diff"
  },
  "language_info": {
   "codemirror_mode": {
    "name": "ipython",
    "version": 3
   },
   "file_extension": ".py",
   "mimetype": "text/x-python",
   "name": "python",
   "nbconvert_exporter": "python",
   "pygments_lexer": "ipython3",
   "version": "3.9.17"
  },
  "orig_nbformat": 4
 },
 "nbformat": 4,
 "nbformat_minor": 2
}
